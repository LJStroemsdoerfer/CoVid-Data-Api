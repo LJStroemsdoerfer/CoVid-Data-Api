{
 "cells": [
  {
   "cell_type": "code",
   "execution_count": 3,
   "metadata": {},
   "outputs": [],
   "source": [
    "# load lib\n",
    "library(coviddatagermany)"
   ]
  },
  {
   "cell_type": "code",
   "execution_count": 4,
   "metadata": {},
   "outputs": [],
   "source": [
    "# get the county level data\n",
    "df_county <- coviddatagermany::get_covid_data(level = \"county\")"
   ]
  },
  {
   "cell_type": "code",
   "execution_count": 5,
   "metadata": {},
   "outputs": [
    {
     "data": {
      "text/html": [
       "<table>\n",
       "<caption>A data.frame: 5 × 36</caption>\n",
       "<thead>\n",
       "\t<tr><th></th><th scope=col>OBJECTID</th><th scope=col>ADE</th><th scope=col>GF</th><th scope=col>BSG</th><th scope=col>RS</th><th scope=col>AGS</th><th scope=col>SDV_RS</th><th scope=col>GEN</th><th scope=col>BEZ</th><th scope=col>IBZ</th><th scope=col>⋯</th><th scope=col>Shape__Area</th><th scope=col>Shape__Length</th><th scope=col>death_rate</th><th scope=col>cases</th><th scope=col>deaths</th><th scope=col>cases_per_100k</th><th scope=col>cases_per_population</th><th scope=col>BL</th><th scope=col>BL_ID</th><th scope=col>county</th></tr>\n",
       "\t<tr><th></th><th scope=col>&lt;chr&gt;</th><th scope=col>&lt;chr&gt;</th><th scope=col>&lt;chr&gt;</th><th scope=col>&lt;chr&gt;</th><th scope=col>&lt;chr&gt;</th><th scope=col>&lt;chr&gt;</th><th scope=col>&lt;chr&gt;</th><th scope=col>&lt;chr&gt;</th><th scope=col>&lt;chr&gt;</th><th scope=col>&lt;chr&gt;</th><th scope=col>⋯</th><th scope=col>&lt;chr&gt;</th><th scope=col>&lt;chr&gt;</th><th scope=col>&lt;chr&gt;</th><th scope=col>&lt;chr&gt;</th><th scope=col>&lt;chr&gt;</th><th scope=col>&lt;chr&gt;</th><th scope=col>&lt;chr&gt;</th><th scope=col>&lt;chr&gt;</th><th scope=col>&lt;chr&gt;</th><th scope=col>&lt;chr&gt;</th></tr>\n",
       "</thead>\n",
       "<tbody>\n",
       "\t<tr><th scope=row>1</th><td>1</td><td>4</td><td>4</td><td>1</td><td>01001</td><td>01001</td><td>010010000000</td><td>Flensburg   </td><td>Kreisfreie Stadt</td><td>40</td><td>⋯</td><td>49182929.6872559</td><td>42752.5920153776</td><td>0               </td><td>13</td><td>0</td><td>14.5244905255631</td><td>0.0145244905255631 </td><td>Schleswig-Holstein</td><td>1</td><td>SK Flensburg   </td></tr>\n",
       "\t<tr><th scope=row>2</th><td>2</td><td>4</td><td>4</td><td>1</td><td>01002</td><td>01002</td><td>010020000000</td><td>Kiel        </td><td>Kreisfreie Stadt</td><td>40</td><td>⋯</td><td>112231447.576416</td><td>104373.457289284</td><td>0               </td><td>39</td><td>0</td><td>15.7545203354501</td><td>0.0157545203354501 </td><td>Schleswig-Holstein</td><td>1</td><td>SK Kiel        </td></tr>\n",
       "\t<tr><th scope=row>3</th><td>3</td><td>4</td><td>4</td><td>1</td><td>01003</td><td>01003</td><td>010030000000</td><td>Lübeck      </td><td>Kreisfreie Stadt</td><td>40</td><td>⋯</td><td>211677111.391357</td><td>146459.457896987</td><td>4.76190476190476</td><td>21</td><td>1</td><td>9.66859731673404</td><td>0.00966859731673404</td><td>Schleswig-Holstein</td><td>1</td><td>SK Lübeck      </td></tr>\n",
       "\t<tr><th scope=row>4</th><td>4</td><td>4</td><td>4</td><td>1</td><td>01004</td><td>01004</td><td>010040000000</td><td>Neumünster  </td><td>Kreisfreie Stadt</td><td>40</td><td>⋯</td><td>71402241.6633301</td><td>54863.9954163623</td><td>0               </td><td>7 </td><td>0</td><td>8.80647149848403</td><td>0.00880647149848403</td><td>Schleswig-Holstein</td><td>1</td><td>SK Neumünster  </td></tr>\n",
       "\t<tr><th scope=row>5</th><td>5</td><td>4</td><td>4</td><td>1</td><td>01051</td><td>01051</td><td>010510044044</td><td>Dithmarschen</td><td>Kreis           </td><td>42</td><td>⋯</td><td>1425510586.4812 </td><td>250768.570200458</td><td>0               </td><td>12</td><td>0</td><td>9.00833270775467</td><td>0.00900833270775467</td><td>Schleswig-Holstein</td><td>1</td><td>LK Dithmarschen</td></tr>\n",
       "</tbody>\n",
       "</table>\n"
      ],
      "text/latex": [
       "A data.frame: 5 × 36\n",
       "\\begin{tabular}{r|lllllllllllllllllllll}\n",
       "  & OBJECTID & ADE & GF & BSG & RS & AGS & SDV\\_RS & GEN & BEZ & IBZ & ⋯ & Shape\\_\\_Area & Shape\\_\\_Length & death\\_rate & cases & deaths & cases\\_per\\_100k & cases\\_per\\_population & BL & BL\\_ID & county\\\\\n",
       "  & <chr> & <chr> & <chr> & <chr> & <chr> & <chr> & <chr> & <chr> & <chr> & <chr> & ⋯ & <chr> & <chr> & <chr> & <chr> & <chr> & <chr> & <chr> & <chr> & <chr> & <chr>\\\\\n",
       "\\hline\n",
       "\t1 & 1 & 4 & 4 & 1 & 01001 & 01001 & 010010000000 & Flensburg    & Kreisfreie Stadt & 40 & ⋯ & 49182929.6872559 & 42752.5920153776 & 0                & 13 & 0 & 14.5244905255631 & 0.0145244905255631  & Schleswig-Holstein & 1 & SK Flensburg   \\\\\n",
       "\t2 & 2 & 4 & 4 & 1 & 01002 & 01002 & 010020000000 & Kiel         & Kreisfreie Stadt & 40 & ⋯ & 112231447.576416 & 104373.457289284 & 0                & 39 & 0 & 15.7545203354501 & 0.0157545203354501  & Schleswig-Holstein & 1 & SK Kiel        \\\\\n",
       "\t3 & 3 & 4 & 4 & 1 & 01003 & 01003 & 010030000000 & Lübeck       & Kreisfreie Stadt & 40 & ⋯ & 211677111.391357 & 146459.457896987 & 4.76190476190476 & 21 & 1 & 9.66859731673404 & 0.00966859731673404 & Schleswig-Holstein & 1 & SK Lübeck      \\\\\n",
       "\t4 & 4 & 4 & 4 & 1 & 01004 & 01004 & 010040000000 & Neumünster   & Kreisfreie Stadt & 40 & ⋯ & 71402241.6633301 & 54863.9954163623 & 0                & 7  & 0 & 8.80647149848403 & 0.00880647149848403 & Schleswig-Holstein & 1 & SK Neumünster  \\\\\n",
       "\t5 & 5 & 4 & 4 & 1 & 01051 & 01051 & 010510044044 & Dithmarschen & Kreis            & 42 & ⋯ & 1425510586.4812  & 250768.570200458 & 0                & 12 & 0 & 9.00833270775467 & 0.00900833270775467 & Schleswig-Holstein & 1 & LK Dithmarschen\\\\\n",
       "\\end{tabular}\n"
      ],
      "text/markdown": [
       "\n",
       "A data.frame: 5 × 36\n",
       "\n",
       "| <!--/--> | OBJECTID &lt;chr&gt; | ADE &lt;chr&gt; | GF &lt;chr&gt; | BSG &lt;chr&gt; | RS &lt;chr&gt; | AGS &lt;chr&gt; | SDV_RS &lt;chr&gt; | GEN &lt;chr&gt; | BEZ &lt;chr&gt; | IBZ &lt;chr&gt; | ⋯ ⋯ | Shape__Area &lt;chr&gt; | Shape__Length &lt;chr&gt; | death_rate &lt;chr&gt; | cases &lt;chr&gt; | deaths &lt;chr&gt; | cases_per_100k &lt;chr&gt; | cases_per_population &lt;chr&gt; | BL &lt;chr&gt; | BL_ID &lt;chr&gt; | county &lt;chr&gt; |\n",
       "|---|---|---|---|---|---|---|---|---|---|---|---|---|---|---|---|---|---|---|---|---|---|\n",
       "| 1 | 1 | 4 | 4 | 1 | 01001 | 01001 | 010010000000 | Flensburg    | Kreisfreie Stadt | 40 | ⋯ | 49182929.6872559 | 42752.5920153776 | 0                | 13 | 0 | 14.5244905255631 | 0.0145244905255631  | Schleswig-Holstein | 1 | SK Flensburg    |\n",
       "| 2 | 2 | 4 | 4 | 1 | 01002 | 01002 | 010020000000 | Kiel         | Kreisfreie Stadt | 40 | ⋯ | 112231447.576416 | 104373.457289284 | 0                | 39 | 0 | 15.7545203354501 | 0.0157545203354501  | Schleswig-Holstein | 1 | SK Kiel         |\n",
       "| 3 | 3 | 4 | 4 | 1 | 01003 | 01003 | 010030000000 | Lübeck       | Kreisfreie Stadt | 40 | ⋯ | 211677111.391357 | 146459.457896987 | 4.76190476190476 | 21 | 1 | 9.66859731673404 | 0.00966859731673404 | Schleswig-Holstein | 1 | SK Lübeck       |\n",
       "| 4 | 4 | 4 | 4 | 1 | 01004 | 01004 | 010040000000 | Neumünster   | Kreisfreie Stadt | 40 | ⋯ | 71402241.6633301 | 54863.9954163623 | 0                | 7  | 0 | 8.80647149848403 | 0.00880647149848403 | Schleswig-Holstein | 1 | SK Neumünster   |\n",
       "| 5 | 5 | 4 | 4 | 1 | 01051 | 01051 | 010510044044 | Dithmarschen | Kreis            | 42 | ⋯ | 1425510586.4812  | 250768.570200458 | 0                | 12 | 0 | 9.00833270775467 | 0.00900833270775467 | Schleswig-Holstein | 1 | LK Dithmarschen |\n",
       "\n"
      ],
      "text/plain": [
       "  OBJECTID ADE GF BSG RS    AGS   SDV_RS       GEN          BEZ             \n",
       "1 1        4   4  1   01001 01001 010010000000 Flensburg    Kreisfreie Stadt\n",
       "2 2        4   4  1   01002 01002 010020000000 Kiel         Kreisfreie Stadt\n",
       "3 3        4   4  1   01003 01003 010030000000 Lübeck       Kreisfreie Stadt\n",
       "4 4        4   4  1   01004 01004 010040000000 Neumünster   Kreisfreie Stadt\n",
       "5 5        4   4  1   01051 01051 010510044044 Dithmarschen Kreis           \n",
       "  IBZ ⋯ Shape__Area      Shape__Length    death_rate       cases deaths\n",
       "1 40  ⋯ 49182929.6872559 42752.5920153776 0                13    0     \n",
       "2 40  ⋯ 112231447.576416 104373.457289284 0                39    0     \n",
       "3 40  ⋯ 211677111.391357 146459.457896987 4.76190476190476 21    1     \n",
       "4 40  ⋯ 71402241.6633301 54863.9954163623 0                7     0     \n",
       "5 42  ⋯ 1425510586.4812  250768.570200458 0                12    0     \n",
       "  cases_per_100k   cases_per_population BL                 BL_ID\n",
       "1 14.5244905255631 0.0145244905255631   Schleswig-Holstein 1    \n",
       "2 15.7545203354501 0.0157545203354501   Schleswig-Holstein 1    \n",
       "3 9.66859731673404 0.00966859731673404  Schleswig-Holstein 1    \n",
       "4 8.80647149848403 0.00880647149848403  Schleswig-Holstein 1    \n",
       "5 9.00833270775467 0.00900833270775467  Schleswig-Holstein 1    \n",
       "  county         \n",
       "1 SK Flensburg   \n",
       "2 SK Kiel        \n",
       "3 SK Lübeck      \n",
       "4 SK Neumünster  \n",
       "5 LK Dithmarschen"
      ]
     },
     "metadata": {},
     "output_type": "display_data"
    }
   ],
   "source": [
    "head(df_county, n = 5)"
   ]
  },
  {
   "cell_type": "code",
   "execution_count": 6,
   "metadata": {},
   "outputs": [],
   "source": [
    "# get the state level data\n",
    "df_state <- coviddatagermany::get_covid_data(level = \"state\")"
   ]
  },
  {
   "cell_type": "code",
   "execution_count": 7,
   "metadata": {},
   "outputs": [
    {
     "data": {
      "text/html": [
       "<table>\n",
       "<caption>A data.frame: 5 × 14</caption>\n",
       "<thead>\n",
       "\t<tr><th></th><th scope=col>OBJECTID_1</th><th scope=col>LAN_ew_AGS</th><th scope=col>LAN_ew_GEN</th><th scope=col>LAN_ew_BEZ</th><th scope=col>LAN_ew_EWZ</th><th scope=col>OBJECTID</th><th scope=col>Fallzahl</th><th scope=col>Aktualisierung</th><th scope=col>AGS_TXT</th><th scope=col>GlobalID</th><th scope=col>faelle_100000_EW</th><th scope=col>Shape__Area</th><th scope=col>Shape__Length</th><th scope=col>Death</th></tr>\n",
       "\t<tr><th></th><th scope=col>&lt;chr&gt;</th><th scope=col>&lt;chr&gt;</th><th scope=col>&lt;chr&gt;</th><th scope=col>&lt;chr&gt;</th><th scope=col>&lt;chr&gt;</th><th scope=col>&lt;chr&gt;</th><th scope=col>&lt;chr&gt;</th><th scope=col>&lt;chr&gt;</th><th scope=col>&lt;chr&gt;</th><th scope=col>&lt;chr&gt;</th><th scope=col>&lt;chr&gt;</th><th scope=col>&lt;chr&gt;</th><th scope=col>&lt;chr&gt;</th><th scope=col>&lt;chr&gt;</th></tr>\n",
       "</thead>\n",
       "<tbody>\n",
       "\t<tr><th scope=row>1</th><td>1</td><td>01</td><td>Schleswig-Holstein </td><td>Land                </td><td>2889821 </td><td>15</td><td>347 </td><td>1.584576e+12</td><td>01</td><td>fc5ba936-c95c-432c-8a33-9eb2f30b660f</td><td>12.0076641425196</td><td>45737314116.8701</td><td>2881496.1295035 </td><td>1</td></tr>\n",
       "\t<tr><th scope=row>2</th><td>2</td><td>02</td><td>Hamburg            </td><td>Freie und Hansestadt</td><td>1830584 </td><td>6 </td><td>872 </td><td>1.584576e+12</td><td>02</td><td>0f3e860c-5181-4d3f-a421-1d51f50315ea</td><td>47.635071649266 </td><td>2089396054.82129</td><td>418800.187474072</td><td>0</td></tr>\n",
       "\t<tr><th scope=row>3</th><td>3</td><td>03</td><td>Niedersachsen      </td><td>Land                </td><td>7962775 </td><td>9 </td><td>1306</td><td>1.584576e+12</td><td>03</td><td>3fd77024-c29b-4843-9be8-682ad48e60c9</td><td>16.4013173799335</td><td>129983613598.973</td><td>4008988.2951652 </td><td>1</td></tr>\n",
       "\t<tr><th scope=row>4</th><td>4</td><td>04</td><td>Bremen             </td><td>Freie Hansestadt    </td><td>681032  </td><td>5 </td><td>165 </td><td>1.584576e+12</td><td>04</td><td>4132268b-54de-4327-ac1e-760e915112f1</td><td>24.2279364258948</td><td>1119156745.43408</td><td>335717.737774516</td><td>0</td></tr>\n",
       "\t<tr><th scope=row>5</th><td>5</td><td>05</td><td>Nordrhein-Westfalen</td><td>Land                </td><td>17912134</td><td>10</td><td>3545</td><td>1.584576e+12</td><td>05</td><td>561d658f-3ee5-46e3-bc95-3528c6558ab9</td><td>19.7910533719768</td><td>87829361998.0295</td><td>2648672.50917441</td><td>6</td></tr>\n",
       "</tbody>\n",
       "</table>\n"
      ],
      "text/latex": [
       "A data.frame: 5 × 14\n",
       "\\begin{tabular}{r|llllllllllllll}\n",
       "  & OBJECTID\\_1 & LAN\\_ew\\_AGS & LAN\\_ew\\_GEN & LAN\\_ew\\_BEZ & LAN\\_ew\\_EWZ & OBJECTID & Fallzahl & Aktualisierung & AGS\\_TXT & GlobalID & faelle\\_100000\\_EW & Shape\\_\\_Area & Shape\\_\\_Length & Death\\\\\n",
       "  & <chr> & <chr> & <chr> & <chr> & <chr> & <chr> & <chr> & <chr> & <chr> & <chr> & <chr> & <chr> & <chr> & <chr>\\\\\n",
       "\\hline\n",
       "\t1 & 1 & 01 & Schleswig-Holstein  & Land                 & 2889821  & 15 & 347  & 1.584576e+12 & 01 & fc5ba936-c95c-432c-8a33-9eb2f30b660f & 12.0076641425196 & 45737314116.8701 & 2881496.1295035  & 1\\\\\n",
       "\t2 & 2 & 02 & Hamburg             & Freie und Hansestadt & 1830584  & 6  & 872  & 1.584576e+12 & 02 & 0f3e860c-5181-4d3f-a421-1d51f50315ea & 47.635071649266  & 2089396054.82129 & 418800.187474072 & 0\\\\\n",
       "\t3 & 3 & 03 & Niedersachsen       & Land                 & 7962775  & 9  & 1306 & 1.584576e+12 & 03 & 3fd77024-c29b-4843-9be8-682ad48e60c9 & 16.4013173799335 & 129983613598.973 & 4008988.2951652  & 1\\\\\n",
       "\t4 & 4 & 04 & Bremen              & Freie Hansestadt     & 681032   & 5  & 165  & 1.584576e+12 & 04 & 4132268b-54de-4327-ac1e-760e915112f1 & 24.2279364258948 & 1119156745.43408 & 335717.737774516 & 0\\\\\n",
       "\t5 & 5 & 05 & Nordrhein-Westfalen & Land                 & 17912134 & 10 & 3545 & 1.584576e+12 & 05 & 561d658f-3ee5-46e3-bc95-3528c6558ab9 & 19.7910533719768 & 87829361998.0295 & 2648672.50917441 & 6\\\\\n",
       "\\end{tabular}\n"
      ],
      "text/markdown": [
       "\n",
       "A data.frame: 5 × 14\n",
       "\n",
       "| <!--/--> | OBJECTID_1 &lt;chr&gt; | LAN_ew_AGS &lt;chr&gt; | LAN_ew_GEN &lt;chr&gt; | LAN_ew_BEZ &lt;chr&gt; | LAN_ew_EWZ &lt;chr&gt; | OBJECTID &lt;chr&gt; | Fallzahl &lt;chr&gt; | Aktualisierung &lt;chr&gt; | AGS_TXT &lt;chr&gt; | GlobalID &lt;chr&gt; | faelle_100000_EW &lt;chr&gt; | Shape__Area &lt;chr&gt; | Shape__Length &lt;chr&gt; | Death &lt;chr&gt; |\n",
       "|---|---|---|---|---|---|---|---|---|---|---|---|---|---|---|\n",
       "| 1 | 1 | 01 | Schleswig-Holstein  | Land                 | 2889821  | 15 | 347  | 1.584576e+12 | 01 | fc5ba936-c95c-432c-8a33-9eb2f30b660f | 12.0076641425196 | 45737314116.8701 | 2881496.1295035  | 1 |\n",
       "| 2 | 2 | 02 | Hamburg             | Freie und Hansestadt | 1830584  | 6  | 872  | 1.584576e+12 | 02 | 0f3e860c-5181-4d3f-a421-1d51f50315ea | 47.635071649266  | 2089396054.82129 | 418800.187474072 | 0 |\n",
       "| 3 | 3 | 03 | Niedersachsen       | Land                 | 7962775  | 9  | 1306 | 1.584576e+12 | 03 | 3fd77024-c29b-4843-9be8-682ad48e60c9 | 16.4013173799335 | 129983613598.973 | 4008988.2951652  | 1 |\n",
       "| 4 | 4 | 04 | Bremen              | Freie Hansestadt     | 681032   | 5  | 165  | 1.584576e+12 | 04 | 4132268b-54de-4327-ac1e-760e915112f1 | 24.2279364258948 | 1119156745.43408 | 335717.737774516 | 0 |\n",
       "| 5 | 5 | 05 | Nordrhein-Westfalen | Land                 | 17912134 | 10 | 3545 | 1.584576e+12 | 05 | 561d658f-3ee5-46e3-bc95-3528c6558ab9 | 19.7910533719768 | 87829361998.0295 | 2648672.50917441 | 6 |\n",
       "\n"
      ],
      "text/plain": [
       "  OBJECTID_1 LAN_ew_AGS LAN_ew_GEN          LAN_ew_BEZ           LAN_ew_EWZ\n",
       "1 1          01         Schleswig-Holstein  Land                 2889821   \n",
       "2 2          02         Hamburg             Freie und Hansestadt 1830584   \n",
       "3 3          03         Niedersachsen       Land                 7962775   \n",
       "4 4          04         Bremen              Freie Hansestadt     681032    \n",
       "5 5          05         Nordrhein-Westfalen Land                 17912134  \n",
       "  OBJECTID Fallzahl Aktualisierung AGS_TXT GlobalID                            \n",
       "1 15       347      1.584576e+12   01      fc5ba936-c95c-432c-8a33-9eb2f30b660f\n",
       "2 6        872      1.584576e+12   02      0f3e860c-5181-4d3f-a421-1d51f50315ea\n",
       "3 9        1306     1.584576e+12   03      3fd77024-c29b-4843-9be8-682ad48e60c9\n",
       "4 5        165      1.584576e+12   04      4132268b-54de-4327-ac1e-760e915112f1\n",
       "5 10       3545     1.584576e+12   05      561d658f-3ee5-46e3-bc95-3528c6558ab9\n",
       "  faelle_100000_EW Shape__Area      Shape__Length    Death\n",
       "1 12.0076641425196 45737314116.8701 2881496.1295035  1    \n",
       "2 47.635071649266  2089396054.82129 418800.187474072 0    \n",
       "3 16.4013173799335 129983613598.973 4008988.2951652  1    \n",
       "4 24.2279364258948 1119156745.43408 335717.737774516 0    \n",
       "5 19.7910533719768 87829361998.0295 2648672.50917441 6    "
      ]
     },
     "metadata": {},
     "output_type": "display_data"
    }
   ],
   "source": [
    "head(df_state, n = 5)"
   ]
  },
  {
   "cell_type": "code",
   "execution_count": null,
   "metadata": {},
   "outputs": [],
   "source": []
  }
 ],
 "metadata": {
  "kernelspec": {
   "display_name": "R",
   "language": "R",
   "name": "ir"
  },
  "language_info": {
   "codemirror_mode": "r",
   "file_extension": ".r",
   "mimetype": "text/x-r-source",
   "name": "R",
   "pygments_lexer": "r",
   "version": "3.6.1"
  }
 },
 "nbformat": 4,
 "nbformat_minor": 2
}
